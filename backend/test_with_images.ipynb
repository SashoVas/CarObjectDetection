{
 "cells": [
  {
   "cell_type": "code",
   "execution_count": 1,
   "id": "d5288670",
   "metadata": {},
   "outputs": [],
   "source": [
    "from video_detector import process_folder"
   ]
  },
  {
   "cell_type": "code",
   "execution_count": 6,
   "id": "1744eba3",
   "metadata": {},
   "outputs": [],
   "source": [
    "img_gen=process_folder('../test_folder',model_path='models\\\\26 Class Object detection dataset\\\\15_epochs.pt',min_conf_level=0.5)"
   ]
  },
  {
   "cell_type": "code",
   "execution_count": 22,
   "id": "70e35c63",
   "metadata": {},
   "outputs": [
    {
     "ename": "StopIteration",
     "evalue": "",
     "output_type": "error",
     "traceback": [
      "\u001b[1;31m---------------------------------------------------------------------------\u001b[0m",
      "\u001b[1;31mStopIteration\u001b[0m                             Traceback (most recent call last)",
      "Cell \u001b[1;32mIn[22], line 1\u001b[0m\n\u001b[1;32m----> 1\u001b[0m result\u001b[38;5;241m=\u001b[39m\u001b[38;5;28;43mnext\u001b[39;49m\u001b[43m(\u001b[49m\u001b[43mimg_gen\u001b[49m\u001b[43m)\u001b[49m\n",
      "\u001b[1;31mStopIteration\u001b[0m: "
     ]
    }
   ],
   "source": [
    "result=next(img_gen)"
   ]
  }
 ],
 "metadata": {
  "kernelspec": {
   "display_name": ".venv",
   "language": "python",
   "name": "python3"
  },
  "language_info": {
   "codemirror_mode": {
    "name": "ipython",
    "version": 3
   },
   "file_extension": ".py",
   "mimetype": "text/x-python",
   "name": "python",
   "nbconvert_exporter": "python",
   "pygments_lexer": "ipython3",
   "version": "3.10.6"
  }
 },
 "nbformat": 4,
 "nbformat_minor": 5
}
